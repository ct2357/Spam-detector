{
 "cells": [
  {
   "cell_type": "code",
   "execution_count": 1,
   "metadata": {},
   "outputs": [],
   "source": [
    "import numpy as np\n",
    "import pandas as pd\n",
    "import pickle\n",
    "from sklearn.naive_bayes import CategoricalNB,MultinomialNB\n",
    "from sklearn.model_selection import cross_val_score\n",
    "from sklearn.model_selection import GridSearchCV\n",
    "from sklearn.model_selection import StratifiedKFold\n",
    "from sklearn import metrics"
   ]
  },
  {
   "cell_type": "code",
   "execution_count": 2,
   "metadata": {},
   "outputs": [
    {
     "data": {
      "text/plain": [
       "((77938, 8), (13754, 8))"
      ]
     },
     "execution_count": 2,
     "metadata": {},
     "output_type": "execute_result"
    }
   ],
   "source": [
    "data_train= pickle.load(open('train.p', 'rb'))\n",
    "data_test= pickle.load(open('test.p', 'rb'))\n",
    "data_train.shape,data_test.shape"
   ]
  },
  {
   "cell_type": "markdown",
   "metadata": {},
   "source": [
    "# Structural Information Model"
   ]
  },
  {
   "cell_type": "code",
   "execution_count": 3,
   "metadata": {},
   "outputs": [
    {
     "data": {
      "text/html": [
       "<div>\n",
       "<style scoped>\n",
       "    .dataframe tbody tr th:only-of-type {\n",
       "        vertical-align: middle;\n",
       "    }\n",
       "\n",
       "    .dataframe tbody tr th {\n",
       "        vertical-align: top;\n",
       "    }\n",
       "\n",
       "    .dataframe thead th {\n",
       "        text-align: right;\n",
       "    }\n",
       "</style>\n",
       "<table border=\"1\" class=\"dataframe\">\n",
       "  <thead>\n",
       "    <tr style=\"text-align: right;\">\n",
       "      <th></th>\n",
       "      <th>email_id</th>\n",
       "      <th>parts</th>\n",
       "      <th>attachments</th>\n",
       "      <th>html</th>\n",
       "      <th>subject</th>\n",
       "      <th>body</th>\n",
       "      <th>links</th>\n",
       "      <th>spam</th>\n",
       "    </tr>\n",
       "  </thead>\n",
       "  <tbody>\n",
       "    <tr>\n",
       "      <th>153669</th>\n",
       "      <td>208/016</td>\n",
       "      <td>0</td>\n",
       "      <td>0</td>\n",
       "      <td>0</td>\n",
       "      <td>b'RE: '</td>\n",
       "      <td>yes i know!\\n\\n -----Original Message-----\\nFr...</td>\n",
       "      <td>1</td>\n",
       "      <td>0</td>\n",
       "    </tr>\n",
       "    <tr>\n",
       "      <th>122115</th>\n",
       "      <td>102/102</td>\n",
       "      <td>0</td>\n",
       "      <td>0</td>\n",
       "      <td>0</td>\n",
       "      <td>b'FW: Texas Monthly (November 2001): How Enron...</td>\n",
       "      <td>FYI\\n-----Original Message-----\\nFrom: Lees, L...</td>\n",
       "      <td>1</td>\n",
       "      <td>0</td>\n",
       "    </tr>\n",
       "    <tr>\n",
       "      <th>152731</th>\n",
       "      <td>204/274</td>\n",
       "      <td>0</td>\n",
       "      <td>0</td>\n",
       "      <td>0</td>\n",
       "      <td>b'Schedule Crawler: HourAhead Failure'</td>\n",
       "      <td>\\n\\nStart Date: 1/22/02; HourAhead hour: 7;  H...</td>\n",
       "      <td>1</td>\n",
       "      <td>0</td>\n",
       "    </tr>\n",
       "    <tr>\n",
       "      <th>109808</th>\n",
       "      <td>061/037</td>\n",
       "      <td>0</td>\n",
       "      <td>0</td>\n",
       "      <td>0</td>\n",
       "      <td>b'RE: Security Access'</td>\n",
       "      <td>Security, Everyone on the attached list will r...</td>\n",
       "      <td>1</td>\n",
       "      <td>0</td>\n",
       "    </tr>\n",
       "    <tr>\n",
       "      <th>107975</th>\n",
       "      <td>054/257</td>\n",
       "      <td>3</td>\n",
       "      <td>0</td>\n",
       "      <td>1</td>\n",
       "      <td>b'critical SOftware warning - January 25th'</td>\n",
       "      <td>CNET Rep0rt \\noffice X,P Pro 2002 . 6O D0lLars...</td>\n",
       "      <td>1</td>\n",
       "      <td>1</td>\n",
       "    </tr>\n",
       "  </tbody>\n",
       "</table>\n",
       "</div>"
      ],
      "text/plain": [
       "       email_id  parts  attachments  html  \\\n",
       "153669  208/016      0            0     0   \n",
       "122115  102/102      0            0     0   \n",
       "152731  204/274      0            0     0   \n",
       "109808  061/037      0            0     0   \n",
       "107975  054/257      3            0     1   \n",
       "\n",
       "                                                  subject  \\\n",
       "153669                                            b'RE: '   \n",
       "122115  b'FW: Texas Monthly (November 2001): How Enron...   \n",
       "152731             b'Schedule Crawler: HourAhead Failure'   \n",
       "109808                             b'RE: Security Access'   \n",
       "107975        b'critical SOftware warning - January 25th'   \n",
       "\n",
       "                                                     body  links  spam  \n",
       "153669  yes i know!\\n\\n -----Original Message-----\\nFr...      1     0  \n",
       "122115  FYI\\n-----Original Message-----\\nFrom: Lees, L...      1     0  \n",
       "152731  \\n\\nStart Date: 1/22/02; HourAhead hour: 7;  H...      1     0  \n",
       "109808  Security, Everyone on the attached list will r...      1     0  \n",
       "107975  CNET Rep0rt \\noffice X,P Pro 2002 . 6O D0lLars...      1     1  "
      ]
     },
     "execution_count": 3,
     "metadata": {},
     "output_type": "execute_result"
    }
   ],
   "source": [
    "data_train.head()"
   ]
  },
  {
   "cell_type": "code",
   "execution_count": 4,
   "metadata": {},
   "outputs": [
    {
     "name": "stderr",
     "output_type": "stream",
     "text": [
      "C:\\Users\\taoxijia\\Anaconda3\\lib\\site-packages\\ipykernel_launcher.py:3: SettingWithCopyWarning: \n",
      "A value is trying to be set on a copy of a slice from a DataFrame.\n",
      "Try using .loc[row_indexer,col_indexer] = value instead\n",
      "\n",
      "See the caveats in the documentation: https://pandas.pydata.org/pandas-docs/stable/user_guide/indexing.html#returning-a-view-versus-a-copy\n",
      "  This is separate from the ipykernel package so we can avoid doing imports until\n",
      "C:\\Users\\taoxijia\\Anaconda3\\lib\\site-packages\\pandas\\core\\frame.py:2986: SettingWithCopyWarning: \n",
      "A value is trying to be set on a copy of a slice from a DataFrame\n",
      "\n",
      "See the caveats in the documentation: https://pandas.pydata.org/pandas-docs/stable/user_guide/indexing.html#returning-a-view-versus-a-copy\n",
      "  self._where(-key, value, inplace=True)\n"
     ]
    },
    {
     "data": {
      "text/html": [
       "<div>\n",
       "<style scoped>\n",
       "    .dataframe tbody tr th:only-of-type {\n",
       "        vertical-align: middle;\n",
       "    }\n",
       "\n",
       "    .dataframe tbody tr th {\n",
       "        vertical-align: top;\n",
       "    }\n",
       "\n",
       "    .dataframe thead th {\n",
       "        text-align: right;\n",
       "    }\n",
       "</style>\n",
       "<table border=\"1\" class=\"dataframe\">\n",
       "  <thead>\n",
       "    <tr style=\"text-align: right;\">\n",
       "      <th></th>\n",
       "      <th>email_id</th>\n",
       "      <th>parts</th>\n",
       "      <th>attachments</th>\n",
       "      <th>html</th>\n",
       "      <th>subject</th>\n",
       "      <th>body</th>\n",
       "      <th>links</th>\n",
       "      <th>spam</th>\n",
       "    </tr>\n",
       "  </thead>\n",
       "  <tbody>\n",
       "    <tr>\n",
       "      <th>153669</th>\n",
       "      <td>208/016</td>\n",
       "      <td>0</td>\n",
       "      <td>0</td>\n",
       "      <td>0</td>\n",
       "      <td>b'RE: '</td>\n",
       "      <td>yes i know!\\n\\n -----Original Message-----\\nFr...</td>\n",
       "      <td>1</td>\n",
       "      <td>0</td>\n",
       "    </tr>\n",
       "    <tr>\n",
       "      <th>122115</th>\n",
       "      <td>102/102</td>\n",
       "      <td>0</td>\n",
       "      <td>0</td>\n",
       "      <td>0</td>\n",
       "      <td>b'FW: Texas Monthly (November 2001): How Enron...</td>\n",
       "      <td>FYI\\n-----Original Message-----\\nFrom: Lees, L...</td>\n",
       "      <td>1</td>\n",
       "      <td>0</td>\n",
       "    </tr>\n",
       "    <tr>\n",
       "      <th>152731</th>\n",
       "      <td>204/274</td>\n",
       "      <td>0</td>\n",
       "      <td>0</td>\n",
       "      <td>0</td>\n",
       "      <td>b'Schedule Crawler: HourAhead Failure'</td>\n",
       "      <td>\\n\\nStart Date: 1/22/02; HourAhead hour: 7;  H...</td>\n",
       "      <td>1</td>\n",
       "      <td>0</td>\n",
       "    </tr>\n",
       "    <tr>\n",
       "      <th>109808</th>\n",
       "      <td>061/037</td>\n",
       "      <td>0</td>\n",
       "      <td>0</td>\n",
       "      <td>0</td>\n",
       "      <td>b'RE: Security Access'</td>\n",
       "      <td>Security, Everyone on the attached list will r...</td>\n",
       "      <td>1</td>\n",
       "      <td>0</td>\n",
       "    </tr>\n",
       "    <tr>\n",
       "      <th>107975</th>\n",
       "      <td>054/257</td>\n",
       "      <td>1</td>\n",
       "      <td>0</td>\n",
       "      <td>1</td>\n",
       "      <td>b'critical SOftware warning - January 25th'</td>\n",
       "      <td>CNET Rep0rt \\noffice X,P Pro 2002 . 6O D0lLars...</td>\n",
       "      <td>1</td>\n",
       "      <td>1</td>\n",
       "    </tr>\n",
       "    <tr>\n",
       "      <th>...</th>\n",
       "      <td>...</td>\n",
       "      <td>...</td>\n",
       "      <td>...</td>\n",
       "      <td>...</td>\n",
       "      <td>...</td>\n",
       "      <td>...</td>\n",
       "      <td>...</td>\n",
       "      <td>...</td>\n",
       "    </tr>\n",
       "    <tr>\n",
       "      <th>97971</th>\n",
       "      <td>021/008</td>\n",
       "      <td>0</td>\n",
       "      <td>0</td>\n",
       "      <td>0</td>\n",
       "      <td>b'Top 10 popular pharmacy drugs'</td>\n",
       "      <td>Online pharmacy - Visit our online store and s...</td>\n",
       "      <td>1</td>\n",
       "      <td>1</td>\n",
       "    </tr>\n",
       "    <tr>\n",
       "      <th>146592</th>\n",
       "      <td>184/117</td>\n",
       "      <td>0</td>\n",
       "      <td>0</td>\n",
       "      <td>0</td>\n",
       "      <td>b'FW: UI Termination'</td>\n",
       "      <td>\\n-----Original Message-----\\nFrom: Miller, D...</td>\n",
       "      <td>1</td>\n",
       "      <td>0</td>\n",
       "    </tr>\n",
       "    <tr>\n",
       "      <th>168526</th>\n",
       "      <td>257/192</td>\n",
       "      <td>1</td>\n",
       "      <td>0</td>\n",
       "      <td>1</td>\n",
       "      <td>b'Check these superb ddeals on quality rxmeds ...</td>\n",
       "      <td>\\n\\n\\n\\n\\n\\nSelect from a wide variety of  bra...</td>\n",
       "      <td>1</td>\n",
       "      <td>1</td>\n",
       "    </tr>\n",
       "    <tr>\n",
       "      <th>92566</th>\n",
       "      <td>002/276</td>\n",
       "      <td>0</td>\n",
       "      <td>0</td>\n",
       "      <td>0</td>\n",
       "      <td>b'EOL Data, July 9, 2001'</td>\n",
       "      <td>EOL Deals\\t From: 7/1/2001   To: 7/6/2001\\t \\t...</td>\n",
       "      <td>1</td>\n",
       "      <td>0</td>\n",
       "    </tr>\n",
       "    <tr>\n",
       "      <th>107501</th>\n",
       "      <td>053/076</td>\n",
       "      <td>0</td>\n",
       "      <td>0</td>\n",
       "      <td>0</td>\n",
       "      <td>b'ERV Notification:  (Violation/Notification M...</td>\n",
       "      <td>The report named: Violation/Notification Memo ...</td>\n",
       "      <td>1</td>\n",
       "      <td>0</td>\n",
       "    </tr>\n",
       "  </tbody>\n",
       "</table>\n",
       "<p>77938 rows × 8 columns</p>\n",
       "</div>"
      ],
      "text/plain": [
       "       email_id  parts  attachments  html  \\\n",
       "153669  208/016      0            0     0   \n",
       "122115  102/102      0            0     0   \n",
       "152731  204/274      0            0     0   \n",
       "109808  061/037      0            0     0   \n",
       "107975  054/257      1            0     1   \n",
       "...         ...    ...          ...   ...   \n",
       "97971   021/008      0            0     0   \n",
       "146592  184/117      0            0     0   \n",
       "168526  257/192      1            0     1   \n",
       "92566   002/276      0            0     0   \n",
       "107501  053/076      0            0     0   \n",
       "\n",
       "                                                  subject  \\\n",
       "153669                                            b'RE: '   \n",
       "122115  b'FW: Texas Monthly (November 2001): How Enron...   \n",
       "152731             b'Schedule Crawler: HourAhead Failure'   \n",
       "109808                             b'RE: Security Access'   \n",
       "107975        b'critical SOftware warning - January 25th'   \n",
       "...                                                   ...   \n",
       "97971                    b'Top 10 popular pharmacy drugs'   \n",
       "146592                              b'FW: UI Termination'   \n",
       "168526  b'Check these superb ddeals on quality rxmeds ...   \n",
       "92566                           b'EOL Data, July 9, 2001'   \n",
       "107501  b'ERV Notification:  (Violation/Notification M...   \n",
       "\n",
       "                                                     body  links  spam  \n",
       "153669  yes i know!\\n\\n -----Original Message-----\\nFr...      1     0  \n",
       "122115  FYI\\n-----Original Message-----\\nFrom: Lees, L...      1     0  \n",
       "152731  \\n\\nStart Date: 1/22/02; HourAhead hour: 7;  H...      1     0  \n",
       "109808  Security, Everyone on the attached list will r...      1     0  \n",
       "107975  CNET Rep0rt \\noffice X,P Pro 2002 . 6O D0lLars...      1     1  \n",
       "...                                                   ...    ...   ...  \n",
       "97971   Online pharmacy - Visit our online store and s...      1     1  \n",
       "146592   \\n-----Original Message-----\\nFrom: Miller, D...      1     0  \n",
       "168526  \\n\\n\\n\\n\\n\\nSelect from a wide variety of  bra...      1     1  \n",
       "92566   EOL Deals\\t From: 7/1/2001   To: 7/6/2001\\t \\t...      1     0  \n",
       "107501  The report named: Violation/Notification Memo ...      1     0  \n",
       "\n",
       "[77938 rows x 8 columns]"
      ]
     },
     "execution_count": 4,
     "metadata": {},
     "output_type": "execute_result"
    }
   ],
   "source": [
    "#transform ['parts','html','links','attachments'] from integer to binary\n",
    "data_train1=data_train[['parts','html','links','attachments']]\n",
    "data_train1[data_train1!=0]=1\n",
    "data_train[['parts','html','links','attachments']]=data_train1\n",
    "data_train"
   ]
  },
  {
   "cell_type": "code",
   "execution_count": 5,
   "metadata": {},
   "outputs": [
    {
     "name": "stderr",
     "output_type": "stream",
     "text": [
      "C:\\Users\\taoxijia\\Anaconda3\\lib\\site-packages\\ipykernel_launcher.py:3: SettingWithCopyWarning: \n",
      "A value is trying to be set on a copy of a slice from a DataFrame.\n",
      "Try using .loc[row_indexer,col_indexer] = value instead\n",
      "\n",
      "See the caveats in the documentation: https://pandas.pydata.org/pandas-docs/stable/user_guide/indexing.html#returning-a-view-versus-a-copy\n",
      "  This is separate from the ipykernel package so we can avoid doing imports until\n",
      "C:\\Users\\taoxijia\\Anaconda3\\lib\\site-packages\\pandas\\core\\frame.py:2986: SettingWithCopyWarning: \n",
      "A value is trying to be set on a copy of a slice from a DataFrame\n",
      "\n",
      "See the caveats in the documentation: https://pandas.pydata.org/pandas-docs/stable/user_guide/indexing.html#returning-a-view-versus-a-copy\n",
      "  self._where(-key, value, inplace=True)\n"
     ]
    },
    {
     "data": {
      "text/html": [
       "<div>\n",
       "<style scoped>\n",
       "    .dataframe tbody tr th:only-of-type {\n",
       "        vertical-align: middle;\n",
       "    }\n",
       "\n",
       "    .dataframe tbody tr th {\n",
       "        vertical-align: top;\n",
       "    }\n",
       "\n",
       "    .dataframe thead th {\n",
       "        text-align: right;\n",
       "    }\n",
       "</style>\n",
       "<table border=\"1\" class=\"dataframe\">\n",
       "  <thead>\n",
       "    <tr style=\"text-align: right;\">\n",
       "      <th></th>\n",
       "      <th>email_id</th>\n",
       "      <th>parts</th>\n",
       "      <th>attachments</th>\n",
       "      <th>html</th>\n",
       "      <th>subject</th>\n",
       "      <th>body</th>\n",
       "      <th>links</th>\n",
       "      <th>spam</th>\n",
       "    </tr>\n",
       "  </thead>\n",
       "  <tbody>\n",
       "    <tr>\n",
       "      <th>147883</th>\n",
       "      <td>188/209</td>\n",
       "      <td>0</td>\n",
       "      <td>0</td>\n",
       "      <td>0</td>\n",
       "      <td>b'Updated: Integration Test Team Meeting'</td>\n",
       "      <td>When: Monday, January 07, 2002 1:00 PM-5:00 PM...</td>\n",
       "      <td>1</td>\n",
       "      <td>0</td>\n",
       "    </tr>\n",
       "    <tr>\n",
       "      <th>133606</th>\n",
       "      <td>140/251</td>\n",
       "      <td>0</td>\n",
       "      <td>0</td>\n",
       "      <td>0</td>\n",
       "      <td>b'FW: Rio Bravo Posting 11/19/01'</td>\n",
       "      <td>\\n\\n -----Original Message-----\\nFrom: \\t\"Trou...</td>\n",
       "      <td>1</td>\n",
       "      <td>0</td>\n",
       "    </tr>\n",
       "    <tr>\n",
       "      <th>115772</th>\n",
       "      <td>081/035</td>\n",
       "      <td>0</td>\n",
       "      <td>0</td>\n",
       "      <td>0</td>\n",
       "      <td>b'=?GB2312?B?u7DO8bb6u/ogxfq3oszYvNs=?=    12:...</td>\n",
       "      <td>&lt;!DOCTYPE HTML PUBLIC \"-//W3C//DTD HTML 4.0 Tr...</td>\n",
       "      <td>1</td>\n",
       "      <td>1</td>\n",
       "    </tr>\n",
       "    <tr>\n",
       "      <th>156994</th>\n",
       "      <td>219/045</td>\n",
       "      <td>0</td>\n",
       "      <td>0</td>\n",
       "      <td>0</td>\n",
       "      <td>b'Start Date: 2/2/02; HourAhead hour: 18; '</td>\n",
       "      <td>\\n\\nStart Date: 2/2/02; HourAhead hour: 18;  N...</td>\n",
       "      <td>1</td>\n",
       "      <td>0</td>\n",
       "    </tr>\n",
       "    <tr>\n",
       "      <th>174329</th>\n",
       "      <td>277/008</td>\n",
       "      <td>0</td>\n",
       "      <td>0</td>\n",
       "      <td>0</td>\n",
       "      <td>=?unknown-8bit?b?z/Do4uXyISEgOikgICAg?=</td>\n",
       "      <td>\\nHi, Kim!!.    \\n24hrsbuy.com/?sbds...</td>\n",
       "      <td>1</td>\n",
       "      <td>1</td>\n",
       "    </tr>\n",
       "  </tbody>\n",
       "</table>\n",
       "</div>"
      ],
      "text/plain": [
       "       email_id  parts  attachments  html  \\\n",
       "147883  188/209      0            0     0   \n",
       "133606  140/251      0            0     0   \n",
       "115772  081/035      0            0     0   \n",
       "156994  219/045      0            0     0   \n",
       "174329  277/008      0            0     0   \n",
       "\n",
       "                                                  subject  \\\n",
       "147883          b'Updated: Integration Test Team Meeting'   \n",
       "133606                  b'FW: Rio Bravo Posting 11/19/01'   \n",
       "115772  b'=?GB2312?B?u7DO8bb6u/ogxfq3oszYvNs=?=    12:...   \n",
       "156994        b'Start Date: 2/2/02; HourAhead hour: 18; '   \n",
       "174329            =?unknown-8bit?b?z/Do4uXyISEgOikgICAg?=   \n",
       "\n",
       "                                                     body  links  spam  \n",
       "147883  When: Monday, January 07, 2002 1:00 PM-5:00 PM...      1     0  \n",
       "133606  \\n\\n -----Original Message-----\\nFrom: \\t\"Trou...      1     0  \n",
       "115772  <!DOCTYPE HTML PUBLIC \"-//W3C//DTD HTML 4.0 Tr...      1     1  \n",
       "156994  \\n\\nStart Date: 2/2/02; HourAhead hour: 18;  N...      1     0  \n",
       "174329            \\nHi, Kim!!.    \\n24hrsbuy.com/?sbds...      1     1  "
      ]
     },
     "execution_count": 5,
     "metadata": {},
     "output_type": "execute_result"
    }
   ],
   "source": [
    "#transform ['parts','html','links','attachments'] from integer to binary\n",
    "data_test1=data_test[['parts','html','links','attachments']]\n",
    "data_test1[data_test1!=0]=1\n",
    "data_test[['parts','html','links','attachments']]=data_test1\n",
    "data_test.head()"
   ]
  },
  {
   "cell_type": "code",
   "execution_count": 16,
   "metadata": {},
   "outputs": [
    {
     "name": "stderr",
     "output_type": "stream",
     "text": [
      "C:\\Users\\taoxijia\\Anaconda3\\lib\\site-packages\\sklearn\\naive_bayes.py:507: UserWarning: alpha too small will result in numeric errors, setting alpha = 1.0e-10\n",
      "  'setting alpha = %.1e' % _ALPHA_MIN)\n",
      "C:\\Users\\taoxijia\\Anaconda3\\lib\\site-packages\\sklearn\\naive_bayes.py:507: UserWarning: alpha too small will result in numeric errors, setting alpha = 1.0e-10\n",
      "  'setting alpha = %.1e' % _ALPHA_MIN)\n",
      "C:\\Users\\taoxijia\\Anaconda3\\lib\\site-packages\\sklearn\\naive_bayes.py:507: UserWarning: alpha too small will result in numeric errors, setting alpha = 1.0e-10\n",
      "  'setting alpha = %.1e' % _ALPHA_MIN)\n",
      "C:\\Users\\taoxijia\\Anaconda3\\lib\\site-packages\\sklearn\\naive_bayes.py:507: UserWarning: alpha too small will result in numeric errors, setting alpha = 1.0e-10\n",
      "  'setting alpha = %.1e' % _ALPHA_MIN)\n",
      "C:\\Users\\taoxijia\\Anaconda3\\lib\\site-packages\\sklearn\\naive_bayes.py:507: UserWarning: alpha too small will result in numeric errors, setting alpha = 1.0e-10\n",
      "  'setting alpha = %.1e' % _ALPHA_MIN)\n",
      "C:\\Users\\taoxijia\\Anaconda3\\lib\\site-packages\\sklearn\\naive_bayes.py:507: UserWarning: alpha too small will result in numeric errors, setting alpha = 1.0e-10\n",
      "  'setting alpha = %.1e' % _ALPHA_MIN)\n"
     ]
    },
    {
     "data": {
      "text/plain": [
       "GridSearchCV(cv=5, error_score=nan,\n",
       "             estimator=CategoricalNB(alpha=1.0, class_prior=None,\n",
       "                                     fit_prior=True),\n",
       "             iid='deprecated', n_jobs=None,\n",
       "             param_grid={'alpha': [0, 0.5, 1, 1.5, 2]}, pre_dispatch='2*n_jobs',\n",
       "             refit='roc_auc', return_train_score=True,\n",
       "             scoring=['roc_auc', 'accuracy'], verbose=0)"
      ]
     },
     "execution_count": 16,
     "metadata": {},
     "output_type": "execute_result"
    }
   ],
   "source": [
    "\n",
    "clf= CategoricalNB()\n",
    "clf_structure_grid = GridSearchCV(clf, param_grid={'alpha':[0,0.5,1,1.5,2]},scoring=['roc_auc','accuracy'],refit='roc_auc',cv=5)\n",
    "clf_structure_grid.fit(data_train[['parts','html','links','attachments']],data_train['spam'])"
   ]
  },
  {
   "cell_type": "code",
   "execution_count": 17,
   "metadata": {},
   "outputs": [],
   "source": [
    "clf_structure_best=clf_structure_grid.best_estimator_"
   ]
  },
  {
   "cell_type": "code",
   "execution_count": 18,
   "metadata": {},
   "outputs": [
    {
     "data": {
      "text/plain": [
       "(\"best model's alpha:\", 0)"
      ]
     },
     "execution_count": 18,
     "metadata": {},
     "output_type": "execute_result"
    }
   ],
   "source": [
    "\"best model's alpha:\",clf_structure_best.alpha"
   ]
  },
  {
   "cell_type": "code",
   "execution_count": 19,
   "metadata": {},
   "outputs": [
    {
     "data": {
      "text/plain": [
       "(\"best model's AUC:\", 0.6776675352973598)"
      ]
     },
     "execution_count": 19,
     "metadata": {},
     "output_type": "execute_result"
    }
   ],
   "source": [
    "\"best model's AUC:\",clf_structure_grid.best_score_"
   ]
  },
  {
   "cell_type": "code",
   "execution_count": 43,
   "metadata": {},
   "outputs": [],
   "source": [
    "#result=clf_structure_grid.cv_results_\n",
    "#result"
   ]
  },
  {
   "cell_type": "code",
   "execution_count": 44,
   "metadata": {},
   "outputs": [],
   "source": [
    "#clf_structure_grid.best_index_"
   ]
  },
  {
   "cell_type": "code",
   "execution_count": 26,
   "metadata": {},
   "outputs": [
    {
     "data": {
      "text/plain": [
       "(\"best model's accuracy:\", 0.6350688592388277)"
      ]
     },
     "execution_count": 26,
     "metadata": {},
     "output_type": "execute_result"
    }
   ],
   "source": [
    "\"best model's accuracy:\",clf_structure_grid.cv_results_['mean_test_accuracy'][clf_structure_grid.best_index_]"
   ]
  },
  {
   "cell_type": "markdown",
   "metadata": {},
   "source": [
    "# Subject Model"
   ]
  },
  {
   "cell_type": "code",
   "execution_count": 27,
   "metadata": {},
   "outputs": [],
   "source": [
    "with open('text_feature.p',\"rb\") as f:\n",
    "    subject_train=pickle.load(f)\n",
    "    subject_test=pickle.load(f)\n",
    "    v_subject=pickle.load(f)\n",
    "    body_train=pickle.load(f)\n",
    "    body_test=pickle.load(f)\n",
    "    v_body=pickle.load(f)"
   ]
  },
  {
   "cell_type": "code",
   "execution_count": 28,
   "metadata": {},
   "outputs": [
    {
     "data": {
      "text/plain": [
       "((77938, 39634), (13754, 39634), (77938, 408571), (13754, 408571))"
      ]
     },
     "execution_count": 28,
     "metadata": {},
     "output_type": "execute_result"
    }
   ],
   "source": [
    "subject_train.shape,subject_test.shape,body_train.shape,body_test.shape"
   ]
  },
  {
   "cell_type": "code",
   "execution_count": 36,
   "metadata": {},
   "outputs": [],
   "source": [
    "\n",
    "def naivebayes(X,Y):\n",
    "    clf= MultinomialNB()\n",
    "    clf_structure_grid = GridSearchCV(clf, param_grid={'alpha':[0,0.5,1,1.5,2]},scoring=['roc_auc','accuracy'],refit='accuracy',cv=5)\n",
    "    clf_structure_grid.fit(X,Y)\n",
    "    clf_structure_best=clf_structure_grid.best_estimator_\n",
    "    AUC=clf_structure_grid.best_score_\n",
    "    acc=clf_structure_grid.cv_results_['mean_test_accuracy'][clf_structure_grid.best_index_]\n",
    "    alpha=clf_structure_best.alpha\n",
    "    print(\"the best AUC is:\",AUC)\n",
    "    print(\"the best accuracy is:\", acc)\n",
    "    print(\"the best para is:\",alpha)\n",
    "    return clf_structure_best,(AUC,acc),alpha\n"
   ]
  },
  {
   "cell_type": "code",
   "execution_count": 49,
   "metadata": {},
   "outputs": [],
   "source": [
    "# def naivebayes_sparse(X,y,alpha,k=5):\n",
    "#     skf = StratifiedKFold(n_splits=k)\n",
    "#     max_auc=0\n",
    "#     for i in alpha:\n",
    "#         clf = CategoricalNB(alpha=i)\n",
    "#         auc=0\n",
    "#         for train_index, test_index in skf.split(X, y):\n",
    "#             X_train, X_test = X[train_index], X[test_index]\n",
    "#             y_train, y_test = y[train_index], y[test_index]\n",
    "#             clf.fit(X_train, y_train)\n",
    "#             y_predicted = clf.predict(X_test)\n",
    "#             auc=auc+metrics.auc(y_test, y_predicted)\n",
    "#         auc=auc/k\n",
    "#         if auc>max_auc:\n",
    "#             max_auc=auc\n",
    "#             best_model=clf\n",
    "#             best_alpha=i\n",
    "#     return best_model,best_alpha,max_auc \n",
    "        \n",
    "#         print metrics.confusion_matrix(y_test, y_predicted)\n",
    "#         print metrics.classification_report(y_test, y_predicted)\n",
    "#         print sum(-1 == y_test) / float(len(y_test))\n",
    "#         print sum(y_predicted == y_test) / float(len(y_test))"
   ]
  },
  {
   "cell_type": "code",
   "execution_count": 37,
   "metadata": {
    "scrolled": true
   },
   "outputs": [
    {
     "name": "stderr",
     "output_type": "stream",
     "text": [
      "C:\\Users\\taoxijia\\Anaconda3\\lib\\site-packages\\sklearn\\naive_bayes.py:507: UserWarning: alpha too small will result in numeric errors, setting alpha = 1.0e-10\n",
      "  'setting alpha = %.1e' % _ALPHA_MIN)\n",
      "C:\\Users\\taoxijia\\Anaconda3\\lib\\site-packages\\sklearn\\naive_bayes.py:507: UserWarning: alpha too small will result in numeric errors, setting alpha = 1.0e-10\n",
      "  'setting alpha = %.1e' % _ALPHA_MIN)\n",
      "C:\\Users\\taoxijia\\Anaconda3\\lib\\site-packages\\sklearn\\naive_bayes.py:507: UserWarning: alpha too small will result in numeric errors, setting alpha = 1.0e-10\n",
      "  'setting alpha = %.1e' % _ALPHA_MIN)\n",
      "C:\\Users\\taoxijia\\Anaconda3\\lib\\site-packages\\sklearn\\naive_bayes.py:507: UserWarning: alpha too small will result in numeric errors, setting alpha = 1.0e-10\n",
      "  'setting alpha = %.1e' % _ALPHA_MIN)\n",
      "C:\\Users\\taoxijia\\Anaconda3\\lib\\site-packages\\sklearn\\naive_bayes.py:507: UserWarning: alpha too small will result in numeric errors, setting alpha = 1.0e-10\n",
      "  'setting alpha = %.1e' % _ALPHA_MIN)\n"
     ]
    },
    {
     "name": "stdout",
     "output_type": "stream",
     "text": [
      "the best AUC is: 0.921719825541043\n",
      "the best accuracy is: 0.921719825541043\n",
      "the best para is: 0\n"
     ]
    },
    {
     "name": "stderr",
     "output_type": "stream",
     "text": [
      "C:\\Users\\taoxijia\\Anaconda3\\lib\\site-packages\\sklearn\\naive_bayes.py:507: UserWarning: alpha too small will result in numeric errors, setting alpha = 1.0e-10\n",
      "  'setting alpha = %.1e' % _ALPHA_MIN)\n"
     ]
    }
   ],
   "source": [
    "clf_subject_best,clf_subject_best_score_,clf_subject_best_alpha=naivebayes(subject_train,data_train['spam'])"
   ]
  },
  {
   "cell_type": "markdown",
   "metadata": {},
   "source": [
    "# Message Body Model"
   ]
  },
  {
   "cell_type": "code",
   "execution_count": 38,
   "metadata": {},
   "outputs": [
    {
     "name": "stderr",
     "output_type": "stream",
     "text": [
      "C:\\Users\\taoxijia\\Anaconda3\\lib\\site-packages\\sklearn\\naive_bayes.py:507: UserWarning: alpha too small will result in numeric errors, setting alpha = 1.0e-10\n",
      "  'setting alpha = %.1e' % _ALPHA_MIN)\n",
      "C:\\Users\\taoxijia\\Anaconda3\\lib\\site-packages\\sklearn\\naive_bayes.py:507: UserWarning: alpha too small will result in numeric errors, setting alpha = 1.0e-10\n",
      "  'setting alpha = %.1e' % _ALPHA_MIN)\n",
      "C:\\Users\\taoxijia\\Anaconda3\\lib\\site-packages\\sklearn\\naive_bayes.py:507: UserWarning: alpha too small will result in numeric errors, setting alpha = 1.0e-10\n",
      "  'setting alpha = %.1e' % _ALPHA_MIN)\n",
      "C:\\Users\\taoxijia\\Anaconda3\\lib\\site-packages\\sklearn\\naive_bayes.py:507: UserWarning: alpha too small will result in numeric errors, setting alpha = 1.0e-10\n",
      "  'setting alpha = %.1e' % _ALPHA_MIN)\n",
      "C:\\Users\\taoxijia\\Anaconda3\\lib\\site-packages\\sklearn\\naive_bayes.py:507: UserWarning: alpha too small will result in numeric errors, setting alpha = 1.0e-10\n",
      "  'setting alpha = %.1e' % _ALPHA_MIN)\n"
     ]
    },
    {
     "name": "stdout",
     "output_type": "stream",
     "text": [
      "the best AUC is: 0.9320614207450234\n",
      "the best accuracy is: 0.9320614207450234\n",
      "the best para is: 0\n"
     ]
    },
    {
     "name": "stderr",
     "output_type": "stream",
     "text": [
      "C:\\Users\\taoxijia\\Anaconda3\\lib\\site-packages\\sklearn\\naive_bayes.py:507: UserWarning: alpha too small will result in numeric errors, setting alpha = 1.0e-10\n",
      "  'setting alpha = %.1e' % _ALPHA_MIN)\n"
     ]
    }
   ],
   "source": [
    "clf_body_best,clf_body_best_score_,clf_body_best_alpha=naivebayes(body_train,data_train['spam'])"
   ]
  },
  {
   "cell_type": "markdown",
   "metadata": {},
   "source": [
    "# Combined Model"
   ]
  },
  {
   "cell_type": "code",
   "execution_count": 56,
   "metadata": {},
   "outputs": [],
   "source": [
    "# from sklearn.ensemble import VotingClassifier\n"
   ]
  },
  {
   "cell_type": "code",
   "execution_count": 39,
   "metadata": {},
   "outputs": [],
   "source": [
    "from scipy.sparse import csr_matrix,hstack"
   ]
  },
  {
   "cell_type": "code",
   "execution_count": 40,
   "metadata": {},
   "outputs": [
    {
     "data": {
      "text/plain": [
       "scipy.sparse.csr.csr_matrix"
      ]
     },
     "execution_count": 40,
     "metadata": {},
     "output_type": "execute_result"
    }
   ],
   "source": [
    "#hstack([A,B])\n",
    "type(body_train)"
   ]
  },
  {
   "cell_type": "code",
   "execution_count": 41,
   "metadata": {},
   "outputs": [],
   "source": [
    "full_X_train=hstack([body_train,subject_train,csr_matrix(data_train[['parts','html','links','attachments']].values)])"
   ]
  },
  {
   "cell_type": "code",
   "execution_count": 42,
   "metadata": {},
   "outputs": [
    {
     "name": "stderr",
     "output_type": "stream",
     "text": [
      "C:\\Users\\taoxijia\\Anaconda3\\lib\\site-packages\\sklearn\\naive_bayes.py:507: UserWarning: alpha too small will result in numeric errors, setting alpha = 1.0e-10\n",
      "  'setting alpha = %.1e' % _ALPHA_MIN)\n",
      "C:\\Users\\taoxijia\\Anaconda3\\lib\\site-packages\\sklearn\\naive_bayes.py:507: UserWarning: alpha too small will result in numeric errors, setting alpha = 1.0e-10\n",
      "  'setting alpha = %.1e' % _ALPHA_MIN)\n",
      "C:\\Users\\taoxijia\\Anaconda3\\lib\\site-packages\\sklearn\\naive_bayes.py:507: UserWarning: alpha too small will result in numeric errors, setting alpha = 1.0e-10\n",
      "  'setting alpha = %.1e' % _ALPHA_MIN)\n",
      "C:\\Users\\taoxijia\\Anaconda3\\lib\\site-packages\\sklearn\\naive_bayes.py:507: UserWarning: alpha too small will result in numeric errors, setting alpha = 1.0e-10\n",
      "  'setting alpha = %.1e' % _ALPHA_MIN)\n",
      "C:\\Users\\taoxijia\\Anaconda3\\lib\\site-packages\\sklearn\\naive_bayes.py:507: UserWarning: alpha too small will result in numeric errors, setting alpha = 1.0e-10\n",
      "  'setting alpha = %.1e' % _ALPHA_MIN)\n"
     ]
    },
    {
     "name": "stdout",
     "output_type": "stream",
     "text": [
      "the best AUC is: 0.9779055309163155\n",
      "the best accuracy is: 0.9779055309163155\n",
      "the best para is: 0\n"
     ]
    },
    {
     "name": "stderr",
     "output_type": "stream",
     "text": [
      "C:\\Users\\taoxijia\\Anaconda3\\lib\\site-packages\\sklearn\\naive_bayes.py:507: UserWarning: alpha too small will result in numeric errors, setting alpha = 1.0e-10\n",
      "  'setting alpha = %.1e' % _ALPHA_MIN)\n"
     ]
    }
   ],
   "source": [
    "clf_full_best,clf_full_best_score_,clf_full_best_alpha=naivebayes(full_X_train,data_train['spam'])"
   ]
  },
  {
   "cell_type": "markdown",
   "metadata": {},
   "source": [
    "# Testing"
   ]
  },
  {
   "cell_type": "markdown",
   "metadata": {},
   "source": [
    "## Best Model"
   ]
  },
  {
   "cell_type": "markdown",
   "metadata": {},
   "source": [
    "By comparing 4 models, namely Structural Information Model,Subject Model, Message Body Model and Combined Model with 5-flod cross validation AUC 0.678,0.982,0.985 and 0994 respectively. Combined Model is chosen as the best model, because of it highest AUC score."
   ]
  },
  {
   "cell_type": "code",
   "execution_count": 139,
   "metadata": {},
   "outputs": [],
   "source": [
    "import matplotlib.pyplot as plt\n",
    "from sklearn.metrics import roc_auc_score\n",
    "from matplotlib.cm import rainbow\n",
    "import time"
   ]
  },
  {
   "cell_type": "code",
   "execution_count": 96,
   "metadata": {},
   "outputs": [],
   "source": [
    "\n",
    "# global color_i\n",
    "# color_i=0"
   ]
  },
  {
   "cell_type": "code",
   "execution_count": 115,
   "metadata": {},
   "outputs": [],
   "source": [
    "def testing(X_train,X_test,name):\n",
    "    global color_i\n",
    "    clf_best= MultinomialNB(alpha=0)\n",
    "    clf_best.fit(X_train,data_train['spam'])\n",
    "    Y_test_pred=clf_best.predict_proba(X_test)[:,1]\n",
    "    fpr, tpr, thresholds = metrics.roc_curve(data_test['spam'], Y_test_pred)\n",
    "    AUC=metrics.auc(fpr, tpr)\n",
    "    ACC=clf_best.score(X_test,data_test['spam'])\n",
    "    set_ht=np.argmin((thresholds-0.5)**2)\n",
    "    print(\"AUC:\",AUC,'\\n',\"ACC\",ACC)\n",
    "    return (fpr,tpr,AUC,ACC,set_ht,name)   \n"
   ]
  },
  {
   "cell_type": "code",
   "execution_count": 142,
   "metadata": {},
   "outputs": [],
   "source": [
    "def plot_roc(result):\n",
    "    figure1=plt.figure()\n",
    "    colors = rainbow(np.linspace(0,1,4))\n",
    "    color_i=0\n",
    "    for fpr,tpr,AUC,ACC,set_ht,name in result:\n",
    "        plt.plot(fpr,tpr,label=\"{} with AUC:{}, Accuracy:{} \".format(name,round(AUC,3),round(ACC,3)),color=colors[color_i])\n",
    "        plt.plot([fpr[set_ht]], [tpr[set_ht]], marker='D', markersize=5, color=colors[color_i])\n",
    "        color_i=color_i+1\n",
    "    plt.legend(loc=\"lower right\")\n",
    "    plt.savefig('{}.png'.format(time.time()))\n",
    "    return figure1\n"
   ]
  },
  {
   "cell_type": "code",
   "execution_count": 46,
   "metadata": {},
   "outputs": [],
   "source": [
    "full_X_test=hstack([body_test,subject_test,csr_matrix(data_test[['parts','html','links','attachments']].values)])"
   ]
  },
  {
   "cell_type": "code",
   "execution_count": 118,
   "metadata": {},
   "outputs": [],
   "source": [
    "#retrain with all training data\n",
    "result_testing=[]"
   ]
  },
  {
   "cell_type": "code",
   "execution_count": 119,
   "metadata": {},
   "outputs": [
    {
     "name": "stdout",
     "output_type": "stream",
     "text": [
      "AUC: 0.9954008752961894 \n",
      " ACC 0.9797149920023266\n"
     ]
    },
    {
     "name": "stderr",
     "output_type": "stream",
     "text": [
      "C:\\Users\\taoxijia\\Anaconda3\\lib\\site-packages\\sklearn\\naive_bayes.py:507: UserWarning: alpha too small will result in numeric errors, setting alpha = 1.0e-10\n",
      "  'setting alpha = %.1e' % _ALPHA_MIN)\n"
     ]
    }
   ],
   "source": [
    "result_testing.append(testing(full_X_train,full_X_test,\"combined\"))"
   ]
  },
  {
   "cell_type": "markdown",
   "metadata": {},
   "source": [
    "## Other Models"
   ]
  },
  {
   "cell_type": "markdown",
   "metadata": {},
   "source": [
    "### Structural Information Model"
   ]
  },
  {
   "cell_type": "code",
   "execution_count": 120,
   "metadata": {},
   "outputs": [
    {
     "name": "stdout",
     "output_type": "stream",
     "text": [
      "AUC: 0.6771129037131031 \n",
      " ACC 0.6353060927730115\n"
     ]
    },
    {
     "name": "stderr",
     "output_type": "stream",
     "text": [
      "C:\\Users\\taoxijia\\Anaconda3\\lib\\site-packages\\sklearn\\naive_bayes.py:507: UserWarning: alpha too small will result in numeric errors, setting alpha = 1.0e-10\n",
      "  'setting alpha = %.1e' % _ALPHA_MIN)\n"
     ]
    }
   ],
   "source": [
    "result_testing.append(testing(data_train[['parts','html','links','attachments']],data_test[['parts','html','links','attachments']],'structure'))"
   ]
  },
  {
   "cell_type": "markdown",
   "metadata": {},
   "source": [
    "### Subject Model"
   ]
  },
  {
   "cell_type": "code",
   "execution_count": 123,
   "metadata": {
    "scrolled": true
   },
   "outputs": [
    {
     "name": "stdout",
     "output_type": "stream",
     "text": [
      "AUC: 0.9837910618792972 \n",
      " ACC 0.9237312781736222\n"
     ]
    },
    {
     "name": "stderr",
     "output_type": "stream",
     "text": [
      "C:\\Users\\taoxijia\\Anaconda3\\lib\\site-packages\\sklearn\\naive_bayes.py:507: UserWarning: alpha too small will result in numeric errors, setting alpha = 1.0e-10\n",
      "  'setting alpha = %.1e' % _ALPHA_MIN)\n"
     ]
    }
   ],
   "source": [
    "result_testing.append(testing(subject_train,subject_test,'subject'))"
   ]
  },
  {
   "cell_type": "markdown",
   "metadata": {},
   "source": [
    "### Message Body Model"
   ]
  },
  {
   "cell_type": "code",
   "execution_count": 124,
   "metadata": {},
   "outputs": [
    {
     "name": "stdout",
     "output_type": "stream",
     "text": [
      "AUC: 0.9871373541712525 \n",
      " ACC 0.9363094372546168\n"
     ]
    },
    {
     "name": "stderr",
     "output_type": "stream",
     "text": [
      "C:\\Users\\taoxijia\\Anaconda3\\lib\\site-packages\\sklearn\\naive_bayes.py:507: UserWarning: alpha too small will result in numeric errors, setting alpha = 1.0e-10\n",
      "  'setting alpha = %.1e' % _ALPHA_MIN)\n"
     ]
    }
   ],
   "source": [
    "result_testing.append(testing(body_train,body_test,'message body'))"
   ]
  },
  {
   "cell_type": "code",
   "execution_count": 143,
   "metadata": {},
   "outputs": [
    {
     "data": {
      "image/png": "[encoded data removed]",
      "text/plain": [
       "<Figure size 432x288 with 1 Axes>"
      ]
     },
     "execution_count": 143,
     "metadata": {},
     "output_type": "execute_result"
    },
    {
     "data": {
      "image/png": "[encoded data removed]",
      "text/plain": [
       "<Figure size 432x288 with 1 Axes>"
      ]
     },
     "metadata": {
      "needs_background": "light"
     },
     "output_type": "display_data"
    }
   ],
   "source": [
    "plot_roc(result_testing)"
   ]
  },
  {
   "cell_type": "markdown",
   "metadata": {},
   "source": [
    "# Testing on TREC 2007"
   ]
  },
  {
   "cell_type": "code",
   "execution_count": 144,
   "metadata": {},
   "outputs": [],
   "source": [
    "data_07=pickle.load(open('..\\\\trec07p\\\\data_new2_ready.p', 'rb'))"
   ]
  },
  {
   "cell_type": "code",
   "execution_count": 145,
   "metadata": {},
   "outputs": [],
   "source": [
    "subject_07=v_subject.transform(data_07['subject'])\n",
    "body_07=v_body.transform(data_07['body'])"
   ]
  },
  {
   "cell_type": "code",
   "execution_count": 146,
   "metadata": {},
   "outputs": [],
   "source": [
    "full_X_07=hstack([body_07,subject_07,csr_matrix(data_07[['parts','html','links','attachments']].values)])"
   ]
  },
  {
   "cell_type": "code",
   "execution_count": 147,
   "metadata": {},
   "outputs": [],
   "source": [
    "Y_test_pred=clf_best.predict_proba(full_X_07)[:,1]\n",
    "fpr, tpr, thresholds = metrics.roc_curve(data_07['spam'], Y_test_pred,drop_intermediate=False)\n",
    "AUC=metrics.auc(fpr, tpr)\n",
    "ACC=clf_best.score(full_X_07,data_07['spam'])"
   ]
  },
  {
   "cell_type": "code",
   "execution_count": 148,
   "metadata": {},
   "outputs": [
    {
     "data": {
      "image/png": "[encoded data removed]",
      "text/plain": [
       "<Figure size 432x288 with 1 Axes>"
      ]
     },
     "metadata": {
      "needs_background": "light"
     },
     "output_type": "display_data"
    }
   ],
   "source": [
    "set_ht=np.argmin((thresholds-0.5)**2)\n",
    "plt.plot(fpr,tpr,label=\"{} with AUC:{}, Accuracy:{} \".format(\"combined\",round(AUC,3),round(ACC,3)))\n",
    "plt.plot([fpr[set_ht]], [tpr[set_ht]], marker='D', markersize=5)\n",
    "plt.legend(loc=\"lower right\")\n",
    "plt.savefig('{}.png'.format(time.time()))"
   ]
  },
  {
   "cell_type": "markdown",
   "metadata": {},
   "source": [
    "## The reason of bad performance: small amout of common words in dataset 05 and 07"
   ]
  },
  {
   "cell_type": "code",
   "execution_count": 142,
   "metadata": {},
   "outputs": [],
   "source": [
    "with open('..\\\\trec07p\\\\text_feature.p',\"rb\") as f:\n",
    "    subject_train_07=pickle.load(f)\n",
    "    subject_test_07=pickle.load(f)\n",
    "    v_subject_07=pickle.load(f)\n",
    "    body_train_07=pickle.load(f)\n",
    "    body_test_07=pickle.load(f)\n",
    "    v_body_07=pickle.load(f)"
   ]
  },
  {
   "cell_type": "code",
   "execution_count": 147,
   "metadata": {},
   "outputs": [],
   "source": [
    "set_subject=set(v_subject.get_feature_names())\n",
    "set_body=set(v_body.get_feature_names())\n"
   ]
  },
  {
   "cell_type": "code",
   "execution_count": 144,
   "metadata": {},
   "outputs": [],
   "source": [
    "set_subject_07=set(v_subject_07.get_feature_names())\n",
    "set_body_07=set(v_body_07.get_feature_names())"
   ]
  },
  {
   "cell_type": "code",
   "execution_count": 148,
   "metadata": {},
   "outputs": [
    {
     "data": {
      "text/plain": [
       "(39634, 408571, 25701, 383595)"
      ]
     },
     "execution_count": 148,
     "metadata": {},
     "output_type": "execute_result"
    }
   ],
   "source": [
    "len(set_subject),len(set_body),len(set_subject_07),len(set_body_07)"
   ]
  },
  {
   "cell_type": "code",
   "execution_count": 151,
   "metadata": {},
   "outputs": [
    {
     "data": {
      "text/plain": [
       "7151"
      ]
     },
     "execution_count": 151,
     "metadata": {},
     "output_type": "execute_result"
    }
   ],
   "source": [
    "len(set_subject & set_subject_07)"
   ]
  },
  {
   "cell_type": "code",
   "execution_count": 152,
   "metadata": {},
   "outputs": [
    {
     "data": {
      "text/plain": [
       "72546"
      ]
     },
     "execution_count": 152,
     "metadata": {},
     "output_type": "execute_result"
    }
   ],
   "source": [
    "len(set_body & set_body_07)"
   ]
  },
  {
   "cell_type": "code",
   "execution_count": 153,
   "metadata": {},
   "outputs": [
    {
     "data": {
      "text/plain": [
       "0.27823820084821604"
      ]
     },
     "execution_count": 153,
     "metadata": {},
     "output_type": "execute_result"
    }
   ],
   "source": [
    "7151/25701"
   ]
  },
  {
   "cell_type": "code",
   "execution_count": 154,
   "metadata": {},
   "outputs": [
    {
     "data": {
      "text/plain": [
       "0.1891213389121339"
      ]
     },
     "execution_count": 154,
     "metadata": {},
     "output_type": "execute_result"
    }
   ],
   "source": [
    "72546/383595"
   ]
  },
  {
   "cell_type": "code",
   "execution_count": null,
   "metadata": {},
   "outputs": [],
   "source": []
  }
 ],
 "metadata": {
  "kernelspec": {
   "display_name": "Python 3",
   "language": "python",
   "name": "python3"
  },
  "language_info": {
   "codemirror_mode": {
    "name": "ipython",
    "version": 3
   },
   "file_extension": ".py",
   "mimetype": "text/x-python",
   "name": "python",
   "nbconvert_exporter": "python",
   "pygments_lexer": "ipython3",
   "version": "3.7.1"
  },
  "latex_envs": {
   "LaTeX_envs_menu_present": true,
   "autoclose": false,
   "autocomplete": true,
   "bibliofile": "biblio.bib",
   "cite_by": "apalike",
   "current_citInitial": 1,
   "eqLabelWithNumbers": true,
   "eqNumInitial": 1,
   "hotkeys": {
    "equation": "Ctrl-E",
    "itemize": "Ctrl-I"
   },
   "labels_anchors": false,
   "latex_user_defs": false,
   "report_style_numbering": false,
   "user_envs_cfg": false
  },
  "toc": {
   "base_numbering": 1,
   "nav_menu": {},
   "number_sections": true,
   "sideBar": true,
   "skip_h1_title": false,
   "title_cell": "Table of Contents",
   "title_sidebar": "Contents",
   "toc_cell": false,
   "toc_position": {},
   "toc_section_display": true,
   "toc_window_display": false
  },
  "varInspector": {
   "cols": {
    "lenName": 16,
    "lenType": 16,
    "lenVar": 40
   },
   "kernels_config": {
    "python": {
     "delete_cmd_postfix": "",
     "delete_cmd_prefix": "del ",
     "library": "var_list.py",
     "varRefreshCmd": "print(var_dic_list())"
    },
    "r": {
     "delete_cmd_postfix": ") ",
     "delete_cmd_prefix": "rm(",
     "library": "var_list.r",
     "varRefreshCmd": "cat(var_dic_list()) "
    }
   },
   "types_to_exclude": [
    "module",
    "function",
    "builtin_function_or_method",
    "instance",
    "_Feature"
   ],
   "window_display": false
  }
 },
 "nbformat": 4,
 "nbformat_minor": 4
}
